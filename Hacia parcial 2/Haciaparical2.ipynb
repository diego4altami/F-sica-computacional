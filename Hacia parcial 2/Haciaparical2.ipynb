{
 "cells": [
  {
   "attachments": {},
   "cell_type": "markdown",
   "metadata": {},
   "source": [
    "# Pregunta 1"
   ]
  },
  {
   "cell_type": "code",
   "execution_count": 1,
   "metadata": {},
   "outputs": [],
   "source": [
    "import numpy as np\n",
    "import numpy.random as nr "
   ]
  },
  {
   "cell_type": "code",
   "execution_count": 2,
   "metadata": {},
   "outputs": [],
   "source": [
    "def Valormedio(f,N,a,b):\n",
    "    x=(b-a)*nr.random(N)+a\n",
    "    I=(b-a)*(np.sum(f(x)))/N\n",
    "    return I"
   ]
  },
  {
   "cell_type": "code",
   "execution_count": 3,
   "metadata": {},
   "outputs": [],
   "source": [
    "fy = lambda y: y**2*np.exp(-y**2)"
   ]
  },
  {
   "cell_type": "code",
   "execution_count": 4,
   "metadata": {},
   "outputs": [],
   "source": [
    "N=10**9\n",
    "fy=Valormedio(fy,N,-5,5)"
   ]
  },
  {
   "cell_type": "code",
   "execution_count": 5,
   "metadata": {},
   "outputs": [],
   "source": [
    "fx=lambda x: (x**4*np.exp(-x**2)+fy)/(x*np.exp(-x**2))"
   ]
  },
  {
   "cell_type": "code",
   "execution_count": 6,
   "metadata": {},
   "outputs": [
    {
     "name": "stdout",
     "output_type": "stream",
     "text": [
      "1331729273.748273\n"
     ]
    }
   ],
   "source": [
    "fx=Valormedio(fx,N,1,5)\n",
    "print(fx)"
   ]
  },
  {
   "cell_type": "code",
   "execution_count": 7,
   "metadata": {},
   "outputs": [],
   "source": [
    "Valorreal=1.33199*10**9"
   ]
  },
  {
   "cell_type": "code",
   "execution_count": 8,
   "metadata": {},
   "outputs": [
    {
     "name": "stdout",
     "output_type": "stream",
     "text": [
      "260726.2517271042\n"
     ]
    }
   ],
   "source": [
    "error= abs(fx-Valorreal)\n",
    "print(error)"
   ]
  },
  {
   "attachments": {},
   "cell_type": "markdown",
   "metadata": {},
   "source": [
    "#### Falta comparación de diferentes N"
   ]
  },
  {
   "attachments": {},
   "cell_type": "markdown",
   "metadata": {},
   "source": [
    "# Pregunta 2"
   ]
  },
  {
   "cell_type": "code",
   "execution_count": 24,
   "metadata": {},
   "outputs": [],
   "source": [
    "import numpy as np"
   ]
  },
  {
   "cell_type": "code",
   "execution_count": 26,
   "metadata": {},
   "outputs": [],
   "source": [
    "datos = np.loadtxt('pregunta8.txt', skiprows=3, comments=\"time\")\n",
    "\n",
    "t = datos[:, 0]\n",
    "r = datos[:, 1]\n",
    "u = datos[:, 2]"
   ]
  },
  {
   "cell_type": "code",
   "execution_count": 27,
   "metadata": {},
   "outputs": [],
   "source": [
    "import matplotlib.pyplot as plt"
   ]
  },
  {
   "cell_type": "code",
   "execution_count": 30,
   "metadata": {},
   "outputs": [
    {
     "data": {
      "text/plain": [
       "[<matplotlib.lines.Line2D at 0x7f7db129aa30>]"
      ]
     },
     "execution_count": 30,
     "metadata": {},
     "output_type": "execute_result"
    },
    {
     "data": {
      "image/png": "[encoded data removed]",
      "text/plain": [
       "<Figure size 640x480 with 1 Axes>"
      ]
     },
     "metadata": {},
     "output_type": "display_data"
    }
   ],
   "source": [
    "plt.loglog(t,r)"
   ]
  },
  {
   "cell_type": "code",
   "execution_count": null,
   "metadata": {},
   "outputs": [],
   "source": [
    "# poner función linefit del libro \n",
    "\n",
    "import numpy as np\n",
    "import matplotlib.pyplot as plt\n",
    "\n",
    "def LineFitWt(x, y, dy):\n",
    "    \"\"\"Fit to straight line.\n",
    "    Inputs: x, y, and dy (y-uncertainty) arrays.\n",
    "    Ouputs: slope and y-intercept of best fit to data.\n",
    "    \"\"\"\n",
    "    dy2 = dy**2\n",
    "    norm = (1./dy2).sum()\n",
    "    xhat = (x/dy2).sum() / norm\n",
    "    yhat = (y/dy2).sum() / norm\n",
    "    slope = ((x-xhat)*y/dy2).sum()/((x-xhat)*x/dy2).sum() yint = yhat - slope*xhat\n",
    "    dy2_slope = 1./((x-xhat)*x/dy2).sum()\n",
    "    dy2_yint = dy2_slope * (x*x/dy2).sum() / norm\n",
    "    return slope, yint, np.sqrt(dy2_slope), np.sqrt(dy2_yint)\n",
    "\n",
    "def redchisq(x, y, dy, slope, yint):\n",
    "    chisq = (((y-yint-slope*x)/dy)**2).sum() \n",
    "    return chisq/float(x.size-2)\n",
    "\n",
    "t, N, dN = np.loadtxt(\"betaDecay.txt\", skiprows=2, unpack=True)\n",
    "\n",
    "X = t # transform t data for fitting (trivial)\n",
    "Y = np.log(N) # transform N data for fitting\n",
    "dY = dN/N # transform uncertainties for fitting\n",
    "\n",
    "B, A, dB, dA = LineFitWt(X, Y, dY)\n",
    "redchisqr = redchisq(X, Y, dY, B, A)\n",
    "\n",
    "N0 = np.exp(A)\n",
    "tau = -1.0/B\n",
    "\n",
    "dN0=N0*dA\n",
    "dtau = tau**2 * dB"
   ]
  },
  {
   "attachments": {},
   "cell_type": "markdown",
   "metadata": {},
   "source": [
    "#### Faltan varios incisos aunque todos se derivan de tener lo primero bien"
   ]
  },
  {
   "attachments": {},
   "cell_type": "markdown",
   "metadata": {},
   "source": [
    "# Pregunta 3"
   ]
  },
  {
   "cell_type": "code",
   "execution_count": null,
   "metadata": {},
   "outputs": [],
   "source": [
    "#Se tiene que hacer la construicción de un decaimiento de arriba a abajo, creo que no es mayor problema"
   ]
  },
  {
   "attachments": {},
   "cell_type": "markdown",
   "metadata": {},
   "source": [
    "# Pregunta 4"
   ]
  },
  {
   "cell_type": "code",
   "execution_count": 33,
   "metadata": {},
   "outputs": [],
   "source": [
    "# Se tiene que hacer una serie de pasos con un caminante aleatorio en 1 dimension\n",
    "# muchos incisos puede que halla problema sobre todo por el tiempo"
   ]
  },
  {
   "attachments": {},
   "cell_type": "markdown",
   "metadata": {},
   "source": [
    "# Pregunta 5"
   ]
  },
  {
   "cell_type": "code",
   "execution_count": 34,
   "metadata": {},
   "outputs": [],
   "source": [
    "#Se tiene que hacer algo con el parent, hay que leer bien"
   ]
  },
  {
   "attachments": {},
   "cell_type": "markdown",
   "metadata": {},
   "source": [
    "# Pregunta 6"
   ]
  },
  {
   "cell_type": "code",
   "execution_count": 35,
   "metadata": {},
   "outputs": [],
   "source": [
    "# Red triangular de la percolación, no hay mayor problema"
   ]
  },
  {
   "cell_type": "code",
   "execution_count": null,
   "metadata": {},
   "outputs": [],
   "source": []
  }
 ],
 "metadata": {
  "kernelspec": {
   "display_name": "base",
   "language": "python",
   "name": "python3"
  },
  "language_info": {
   "codemirror_mode": {
    "name": "ipython",
    "version": 3
   },
   "file_extension": ".py",
   "mimetype": "text/x-python",
   "name": "python",
   "nbconvert_exporter": "python",
   "pygments_lexer": "ipython3",
   "version": "3.9.13"
  },
  "orig_nbformat": 4
 },
 "nbformat": 4,
 "nbformat_minor": 2
}
