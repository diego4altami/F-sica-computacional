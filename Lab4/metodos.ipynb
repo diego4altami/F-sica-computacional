{
 "cells": [
  {
   "cell_type": "code",
   "execution_count": 2,
   "metadata": {},
   "outputs": [
    {
     "name": "stdout",
     "output_type": "stream",
     "text": [
      "Integration result using Simpson's method: 1.45142619977493\n",
      "Processing time using Simpson's method: 0.059354 seconds\n",
      "Integration result using Trapezoid method: 1.4514259812785533\n",
      "Processing time using Trapezoid method: 0.018341 seconds\n"
     ]
    }
   ],
   "source": [
    "import numpy as np\n",
    "from scipy.integrate import simps, trapz\n",
    "import time\n",
    "\n",
    "# Define the function to be integrated\n",
    "def f(x):\n",
    "    return np.sin(1/((x+1e-12)*(2-x+1e-12)))**2\n",
    "# Define the integration limits\n",
    "a = 0\n",
    "b = 2\n",
    "\n",
    "# Simpson's method\n",
    "start_time = time.time()\n",
    "n = 1000000  # number of points\n",
    "x = np.linspace(a, b, n)\n",
    "I_simpson = simps(f(x), x)\n",
    "end_time = time.time()\n",
    "print(f\"Integration result using Simpson's method: {I_simpson}\")\n",
    "print(f\"Processing time using Simpson's method: {end_time - start_time:.6f} seconds\")\n",
    "\n",
    "# Trapezoid method\n",
    "start_time = time.time()\n",
    "n = 1000000  # number of points\n",
    "x = np.linspace(a, b, n)\n",
    "I_trapezoid = trapz(f(x), x)\n",
    "end_time = time.time()\n",
    "print(f\"Integration result using Trapezoid method: {I_trapezoid}\")\n",
    "print(f\"Processing time using Trapezoid method: {end_time - start_time:.6f} seconds\")\n"
   ]
  }
 ],
 "metadata": {
  "kernelspec": {
   "display_name": "base",
   "language": "python",
   "name": "python3"
  },
  "language_info": {
   "codemirror_mode": {
    "name": "ipython",
    "version": 3
   },
   "file_extension": ".py",
   "mimetype": "text/x-python",
   "name": "python",
   "nbconvert_exporter": "python",
   "pygments_lexer": "ipython3",
   "version": "3.9.13"
  },
  "orig_nbformat": 4,
  "vscode": {
   "interpreter": {
    "hash": "4a5d33498f9649c05b21671a5d2a953eaa418a7fe5b39b58a8186e2317a66eef"
   }
  }
 },
 "nbformat": 4,
 "nbformat_minor": 2
}
