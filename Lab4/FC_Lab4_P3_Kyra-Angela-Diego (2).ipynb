{
 "cells": [
  {
   "cell_type": "markdown",
   "metadata": {},
   "source": [
    "# Laboratorio 4, pregunta 3: Estimar la vida media del Talio"
   ]
  },
  {
   "cell_type": "code",
   "execution_count": 8,
   "metadata": {},
   "outputs": [],
   "source": [
    "import numpy as np"
   ]
  },
  {
   "cell_type": "code",
   "execution_count": 9,
   "metadata": {},
   "outputs": [],
   "source": [
    "import numpy.random as nr"
   ]
  },
  {
   "cell_type": "code",
   "execution_count": 10,
   "metadata": {},
   "outputs": [],
   "source": [
    "import matplotlib.pyplot as plt"
   ]
  },
  {
   "cell_type": "code",
   "execution_count": 11,
   "metadata": {},
   "outputs": [],
   "source": [
    "#Datos del problema\n",
    "\n",
    "NTl = 1000 #Numero de atomos de Tl\n",
    "NPb = 0 #Numero de atomos de Pb\n",
    "h = 1  # intervalo de tiempo\n",
    "tau = 3.053*60  #tiempo de vida media\n",
    "p = 1 - 2**(-h/tau) #probabilidad de decaimiento\n",
    "\n",
    "NTalios = [NTl]\n",
    "NPlomos = [NPb]\n",
    "\n",
    "tmax = 1000 \n",
    "\n",
    "\n",
    "#Función de decaimiento\n",
    "\n",
    "for _ in range(1,tmax,h):\n",
    "\n",
    "    decays = 0 #Cuenta el número de ´átomos que decayeron en el tiempo t\n",
    "    for i in range(NTl):\n",
    "        r = nr.random()\n",
    "        if r < p: #Moneda sesgada\n",
    "            decays += 1\n",
    "    NTl -= decays\n",
    "    NPb += decays\n",
    "    NTalios.append(NTl)\n",
    "    NPlomos.append(NPb)\n",
    "\n",
    "tpoints = np.arange(0,tmax,h)\n",
    "logNtalio=np.log(NTalios)"
   ]
  },
  {
   "cell_type": "code",
   "execution_count": 12,
   "metadata": {},
   "outputs": [],
   "source": [
    "#funión del Talio   N(t)= N0 2^(-t/tau)\n",
    "def funcion1(NTl,t,tau):\n",
    "    Ntalfunc=NTl*2**(-t/tau)\n",
    "    return Ntalfunc"
   ]
  },
  {
   "cell_type": "code",
   "execution_count": 13,
   "metadata": {},
   "outputs": [],
   "source": [
    "#Función de mínimos cuadrados aplicada para y= log2(NTalio)\n",
    "def minimoscuadrados(x, n):\n",
    "    y=np.log2(n)\n",
    "    xavg = x.mean()\n",
    "    slope = (y * (x - xavg)).sum() / (x * (x - xavg)).sum()\n",
    "    yint = y.mean() - slope * xavg\n",
    "    return slope, yint"
   ]
  },
  {
   "cell_type": "code",
   "execution_count": 14,
   "metadata": {},
   "outputs": [
    {
     "name": "stdout",
     "output_type": "stream",
     "text": [
      "la vida media es: 191.38475988188043\n"
     ]
    }
   ],
   "source": [
    "#Cálculo de la vida media\n",
    "tau , talinical = minimoscuadrados(tpoints,NTalios) \n",
    "print(\"la vida media es:\",-1/tau)"
   ]
  }
 ],
 "metadata": {
  "kernelspec": {
   "display_name": "Python 3 (ipykernel)",
   "language": "python",
   "name": "python3"
  },
  "language_info": {
   "codemirror_mode": {
    "name": "ipython",
    "version": 3
   },
   "file_extension": ".py",
   "mimetype": "text/x-python",
   "name": "python",
   "nbconvert_exporter": "python",
   "pygments_lexer": "ipython3",
   "version": "3.9.13"
  },
  "vscode": {
   "interpreter": {
    "hash": "4a5d33498f9649c05b21671a5d2a953eaa418a7fe5b39b58a8186e2317a66eef"
   }
  }
 },
 "nbformat": 4,
 "nbformat_minor": 2
}
