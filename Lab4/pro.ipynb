{
 "cells": [
  {
   "cell_type": "code",
   "execution_count": 7,
   "metadata": {},
   "outputs": [
    {
     "name": "stdout",
     "output_type": "stream",
     "text": [
      "Resultado usando valor medio: 0.8380015391825012\n",
      "tiempo de computo usando valor medio =  0.05224  s\n",
      "el error de valor medio es: 0.0011102446503782227\n",
      "Resultado usando valor medio: 0.8387535661174943\n",
      "tiempo de computo usando valor medio =  5e-05  s\n",
      "el error de valor medio es: 0.00021383579432242533\n"
     ]
    }
   ],
   "source": [
    "import numpy as np\n",
    "import numpy.random as nr\n",
    "\n",
    "def fx(x):\n",
    "    return x**(-0.5)/(np.exp(x)+1)\n",
    "\n",
    "valreal=0.838932960013382\n",
    "\n",
    "def w(x):\n",
    "    return x**(-0.5)\n",
    "\n",
    "def expoDistribution(N):\n",
    "    x = nr.random(N)**2\n",
    "    return x \n",
    "\n",
    "def val_esp_fw(fx, w,N,x):\n",
    "    valesp = np.sum(fx_array/w_array)/N\n",
    "    return valesp\n",
    "\n",
    "def IntegralMN(valesp, int_w):\n",
    "    return valesp*int_w\n",
    "\n",
    "N=1000000\n",
    "aleatorios= expoDistribution(N)\n",
    "\n",
    "w_array=np.array(w(aleatorios))\n",
    "fx_array=np.array(fx(aleatorios))\n",
    "\n",
    "val_esp = val_esp_fw(fx_array, w_array, N, aleatorios)\n",
    "\n",
    "def Valormedio(f,a,b,N):\n",
    "    x=(b-a)*nr.random(N)+a\n",
    "    I=(b-a)*(np.sum(f(x)))/N\n",
    "    return I\n",
    "\n",
    "import time\n",
    "\n",
    "startTime = time.process_time()\n",
    "Ivm=Valormedio(fx,0,1,N)\n",
    "endTime = time.process_time()\n",
    "print(\"Resultado usando valor medio:\",Ivm)\n",
    "print('tiempo de computo usando valor medio = ',round(endTime-startTime,5),' s')\n",
    "errorvm=abs((Ivm-valreal)/valreal)\n",
    "print('el error de valor medio es:',errorvm)\n",
    "\n",
    "startTime1 = time.process_time()\n",
    "Imn=IntegralMN(val_esp,2)\n",
    "endTime1 = time.process_time()\n",
    "print(\"Resultado usando valor medio:\",Imn)\n",
    "print('tiempo de computo usando valor medio = ',round(endTime1-startTime1,5),' s')\n",
    "errormn=abs((Imn-valreal)/valreal)\n",
    "print('el error de valor medio es:',errormn)\n",
    "\n"
   ]
  }
 ],
 "metadata": {
  "kernelspec": {
   "display_name": "base",
   "language": "python",
   "name": "python3"
  },
  "language_info": {
   "codemirror_mode": {
    "name": "ipython",
    "version": 3
   },
   "file_extension": ".py",
   "mimetype": "text/x-python",
   "name": "python",
   "nbconvert_exporter": "python",
   "pygments_lexer": "ipython3",
   "version": "3.9.13"
  },
  "orig_nbformat": 4
 },
 "nbformat": 4,
 "nbformat_minor": 2
}
