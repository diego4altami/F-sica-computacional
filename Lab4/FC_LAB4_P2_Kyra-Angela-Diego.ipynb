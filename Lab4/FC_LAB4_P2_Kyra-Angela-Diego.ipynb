{
 "cells": [
  {
   "cell_type": "code",
   "execution_count": 1,
   "metadata": {},
   "outputs": [],
   "source": [
    "import numpy as np"
   ]
  },
  {
   "cell_type": "code",
   "execution_count": 2,
   "metadata": {},
   "outputs": [],
   "source": [
    "def lineFit(x, y, s):\n",
    "    N=x.size\n",
    "    xgorr=(x/s**2).sum()/((1/s**2).sum())\n",
    "    ygorr=(y/s**2).sum()/((1/s**2).sum())\n",
    "    b = ((y * (x - xgorr))/s**2).sum()/ (((x * (x - xgorr))/s**2).sum())\n",
    "    a = ygorr - b * xgorr\n",
    "    f=b*x+a\n",
    "    Chi_cuad=(((y-f)/s)**2).sum()\n",
    "    Chi_cuad_red=Chi_cuad/(N-2)\n",
    "    sigma_b_cuad=1/(((x-xgorr)*x/s**2).sum())\n",
    "    sigma_a_cuad=sigma_b_cuad*(((x**2/s**2).sum())/((1/s**2).sum()))\n",
    "    return b, a, Chi_cuad_red, sigma_b_cuad, sigma_a_cuad"
   ]
  },
  {
   "cell_type": "code",
   "execution_count": 3,
   "metadata": {},
   "outputs": [],
   "source": [
    "t,v,s = np.loadtxt(\"VelocityVsTimeData.txt\",skiprows = 3,usecols = (0,1,2),unpack = True)"
   ]
  },
  {
   "cell_type": "code",
   "execution_count": 97,
   "metadata": {},
   "outputs": [
    {
     "name": "stdout",
     "output_type": "stream",
     "text": [
      "-10.09217678546556 185.48457346811045 0.7255301700054672 0.274076178974438 38.02092300813783\n",
      "2.876419831453201\n"
     ]
    }
   ],
   "source": [
    "Slope , V0 , Chi_cuad_red, sigma_b_cuad, sigma_a_cuad = lineFit(t,v,s)\n",
    "print(Slope , V0 , Chi_cuad_red, sigma_b_cuad, sigma_a_cuad)\n",
    "print(abs((Slope-(-9.81))/(-9.81))*100)"
   ]
  },
  {
   "cell_type": "code",
   "execution_count": 98,
   "metadata": {},
   "outputs": [],
   "source": [
    "def lineFit(x, y):\n",
    "    xavg = x.mean()\n",
    "    slope = (y * (x - xavg)).sum() / (x * (x - xavg)).sum()\n",
    "    yint = y.mean() - slope * xavg\n",
    "    return slope, yint"
   ]
  },
  {
   "cell_type": "code",
   "execution_count": 99,
   "metadata": {},
   "outputs": [
    {
     "name": "stdout",
     "output_type": "stream",
     "text": [
      "171.89273556960842 -9.23414248039144\n",
      "5.774056322536326\n"
     ]
    }
   ],
   "source": [
    "a, v0 = lineFit(t,v)x|\n",
    "print(v0,a)\n",
    "print(abs((a-(-9.8))/(-9.8))*100)"
   ]
  },
  {
   "attachments": {},
   "cell_type": "markdown",
   "metadata": {},
   "source": [
    "El método de mínimos cuadrados lineal con incertidumbr en los datos resultó ser más exacto pues el error fue de solo el 2.87% cuándo el error de mínimos cuadrados normal fue de 5.77% comparado con el valor exacto."
   ]
  }
 ],
 "metadata": {
  "kernelspec": {
   "display_name": "base",
   "language": "python",
   "name": "python3"
  },
  "language_info": {
   "codemirror_mode": {
    "name": "ipython",
    "version": 3
   },
   "file_extension": ".py",
   "mimetype": "text/x-python",
   "name": "python",
   "nbconvert_exporter": "python",
   "pygments_lexer": "ipython3",
   "version": "3.9.13"
  },
  "orig_nbformat": 4,
  "vscode": {
   "interpreter": {
    "hash": "4a5d33498f9649c05b21671a5d2a953eaa418a7fe5b39b58a8186e2317a66eef"
   }
  }
 },
 "nbformat": 4,
 "nbformat_minor": 2
}
