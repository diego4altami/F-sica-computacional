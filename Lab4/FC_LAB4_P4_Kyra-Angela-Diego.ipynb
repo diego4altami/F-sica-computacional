{
 "cells": [
  {
   "cell_type": "code",
   "execution_count": 1,
   "metadata": {},
   "outputs": [],
   "source": [
    "import numpy as np\n",
    "import numpy.random as nr \n",
    "import time"
   ]
  },
  {
   "cell_type": "code",
   "execution_count": null,
   "metadata": {},
   "outputs": [],
   "source": [
    "def Valormedio(f,N,a,b):\n",
    "    x=(b-a)*nr.random(N)+a\n",
    "    I=(b-a)*(np.sum(f(x)))/N\n",
    "    return I"
   ]
  },
  {
   "cell_type": "code",
   "execution_count": null,
   "metadata": {},
   "outputs": [],
   "source": [
    "funcion1=lambda x: np.exp(-x**2)"
   ]
  },
  {
   "cell_type": "code",
   "execution_count": null,
   "metadata": {},
   "outputs": [],
   "source": [
    "funcion2 = lambda x: np.sin(1/(x*(2-x)))**2"
   ]
  },
  {
   "cell_type": "code",
   "execution_count": null,
   "metadata": {},
   "outputs": [],
   "source": [
    "startTime = time.process_time()\n",
    "N=1000000000\n",
    "a=0\n",
    "b=2\n",
    "I=Valormedio(funcion2,N,a,b)\n",
    "print(I)\n",
    "endTime = time.process_time()\n",
    "print('tiempo de computo = ',round(endTime-startTime,5),' s')"
   ]
  },
  {
   "cell_type": "code",
   "execution_count": null,
   "metadata": {},
   "outputs": [],
   "source": [
    "import numpy as np\n",
    "import numpy.random as nr \n",
    "import time\n",
    "\n",
    "def double_integral(f, N, a, b):\n",
    "    sum = 0.0\n",
    "    for i in range(N):\n",
    "        x = (b-a)*nr.random() + a\n",
    "        for j in range(N):\n",
    "            y = 10*nr.random() - 5\n",
    "            sum += f(x, y)\n",
    "    I = (b-a)*(sum/(N**2))\n",
    "    return I\n",
    "\n",
    "f = lambda x, y: (y**2*np.exp(-y**2)+x**4*np.exp(-x**2))/(x+np.exp(-x**2))\n",
    "I = double_integral(f, 100000, 1, 5)\n",
    "print(\"Integral with respect to dx and dy: \", I)"
   ]
  },
  {
   "cell_type": "code",
   "execution_count": 8,
   "metadata": {},
   "outputs": [],
   "source": [
    "def double_integral(f, N, a, b):\n",
    "    x = (b-a)*nr.random((N,N)) + a\n",
    "    y = 10*nr.random((N,N)) - 5\n",
    "    fx = f(x, y)\n",
    "    I = (b-a)*np.sum(fx)/(N**2)\n",
    "    return I"
   ]
  },
  {
   "cell_type": "code",
   "execution_count": 9,
   "metadata": {},
   "outputs": [],
   "source": [
    "f = lambda x, y: (y**2*np.exp(-y**2)+x**4*np.exp(-x**2))/(x+np.exp(-x**2))"
   ]
  },
  {
   "cell_type": "code",
   "execution_count": 10,
   "metadata": {},
   "outputs": [
    {
     "name": "stdout",
     "output_type": "stream",
     "text": [
      "0.4688017402806225\n"
     ]
    }
   ],
   "source": [
    "I = double_integral(f, 1000, 1, 5)\n",
    "print(I)"
   ]
  },
  {
   "cell_type": "code",
   "execution_count": null,
   "metadata": {},
   "outputs": [],
   "source": []
  }
 ],
 "metadata": {
  "kernelspec": {
   "display_name": "base",
   "language": "python",
   "name": "python3"
  },
  "language_info": {
   "codemirror_mode": {
    "name": "ipython",
    "version": 3
   },
   "file_extension": ".py",
   "mimetype": "text/x-python",
   "name": "python",
   "nbconvert_exporter": "python",
   "pygments_lexer": "ipython3",
   "version": "3.9.6"
  },
  "orig_nbformat": 4,
  "vscode": {
   "interpreter": {
    "hash": "4a5d33498f9649c05b21671a5d2a953eaa418a7fe5b39b58a8186e2317a66eef"
   }
  }
 },
 "nbformat": 4,
 "nbformat_minor": 2
}
