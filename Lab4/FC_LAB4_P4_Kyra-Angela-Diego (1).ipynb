{
 "cells": [
  {
   "cell_type": "code",
   "execution_count": 86,
   "metadata": {},
   "outputs": [],
   "source": [
    "import numpy as np\n",
    "import numpy.random as nr \n",
    "from scipy.integrate import simps, trapz\n",
    "import time\n",
    "\n",
    "# Define the function to be integrated\n",
    "def funcion1(x):\n",
    "    return np.sin(1/((x+1e-12)*(2-x+1e-12)))**2"
   ]
  },
  {
   "cell_type": "code",
   "execution_count": 87,
   "metadata": {},
   "outputs": [],
   "source": [
    "#Valor exacto de la integral con límites (0,3.5)\n",
    "valreal=1.93064"
   ]
  },
  {
   "cell_type": "code",
   "execution_count": 88,
   "metadata": {},
   "outputs": [],
   "source": [
    "# Método del valor medio\n",
    "def Valormedio(f,a,b,N):\n",
    "    x=(b-a)*nr.random(N)+a\n",
    "    I=(b-a)*(np.sum(f(x)))/N\n",
    "    return I"
   ]
  },
  {
   "cell_type": "code",
   "execution_count": 89,
   "metadata": {},
   "outputs": [],
   "source": [
    "# Método de acertar y fallar (numpy)\n",
    "\n",
    "def npAsertarFallar(f,a,b,c,N,*params):\n",
    "    x = (b-a)*np.random.random(N)+a\n",
    "    y = c*np.random.random(N)\n",
    "    parcial = y < f(x)\n",
    "    \n",
    "    I = (b-a)*c*(parcial[parcial==True].size)/N\n",
    "    return I\n"
   ]
  },
  {
   "cell_type": "code",
   "execution_count": 90,
   "metadata": {},
   "outputs": [],
   "source": [
    "# Método de Simpson\n",
    "\n",
    "def Simpson(f,a,b,n): \n",
    "    h=(b-a)/n\n",
    "    m=(f(a)+f(b))\n",
    "    p=0\n",
    "    q=0\n",
    "    \n",
    "    for k in range (1,n,2): #Primera suma de impares\n",
    "        p+=f(a+k*h)\n",
    "        \n",
    "    for k in range (2,n,2): #Segunda suma de pares\n",
    "        q+=f(a+k*h)\n",
    "    return (1/3)*h*(m+4*p+2*q)\n",
    "        "
   ]
  },
  {
   "cell_type": "code",
   "execution_count": 91,
   "metadata": {},
   "outputs": [],
   "source": [
    "# Método del Trapecio\n",
    "\n",
    "def Trapecio(f, a, b, N):\n",
    "   \n",
    "    h=(b - a)/N  \n",
    "    I = (f(a) + f(b))/2 \n",
    "    for i in range(1, N):\n",
    "        x = a + i * h \n",
    "        I += f(x)  \n",
    "    return h *I"
   ]
  },
  {
   "cell_type": "code",
   "execution_count": 92,
   "metadata": {},
   "outputs": [
    {
     "name": "stdout",
     "output_type": "stream",
     "text": [
      "Resultado usando valor medio: 1.929505129083653\n",
      "tiempo de computo usando valor medio =  0.03713  s\n",
      "el error de valor medio es: 0.0005878210937031287\n"
     ]
    }
   ],
   "source": [
    "#Evaluación método valor medio\n",
    "\n",
    "N=1000000\n",
    "a=0\n",
    "b=3.5\n",
    "\n",
    "startTime1 = time.process_time()\n",
    "\n",
    "Ivm=Valormedio(funcion1,a,b,N)\n",
    "print(\"Resultado usando valor medio:\",Ivm)\n",
    "endTime1 = time.process_time()\n",
    "print('tiempo de computo usando valor medio = ',round(endTime1-startTime1,5),' s')\n",
    "errorvm=abs((Ivm-valreal)/valreal)\n",
    "print('el error de valor medio es:',errorvm)"
   ]
  },
  {
   "cell_type": "code",
   "execution_count": 93,
   "metadata": {},
   "outputs": [
    {
     "name": "stdout",
     "output_type": "stream",
     "text": [
      "Resulatdo usando acertar y fallar: 1.930656\n",
      "tiempo de computo usando acertar y fallar : 0.07023  s\n",
      "el error de acertar y fallar es: 8.287407284639292e-06\n"
     ]
    }
   ],
   "source": [
    "#Evaluación método acertar y fallar\n",
    "\n",
    "N2=1000000\n",
    "a2=0\n",
    "b2=3.5\n",
    "c=1\n",
    "\n",
    "startTime2 = time.process_time()\n",
    "\n",
    "Iaf=npAsertarFallar(funcion1,a2,b2,c,N2)\n",
    "print(\"Resulatdo usando acertar y fallar:\",Iaf)\n",
    "endTime2 = time.process_time()\n",
    "print('tiempo de computo usando acertar y fallar :',round(endTime2-startTime2,5),' s')\n",
    "erroraf=abs((Iaf-valreal)/valreal)\n",
    "print('el error de acertar y fallar es:',erroraf)"
   ]
  },
  {
   "cell_type": "code",
   "execution_count": 94,
   "metadata": {},
   "outputs": [
    {
     "name": "stdout",
     "output_type": "stream",
     "text": [
      "Resultado usando Simpson: 1.930630466157479\n",
      "tiempo de computo usando Simpson : 1.73325  s\n",
      "El error del método de Simpson es: 4.938177247443035e-06\n"
     ]
    }
   ],
   "source": [
    "#Evaluación método Simpson\n",
    "\n",
    "N3=1000000\n",
    "a3=0\n",
    "b3=3.5\n",
    "\n",
    "\n",
    "startTime3 = time.process_time()\n",
    "\n",
    "Is=Simpson(funcion1,a3,b3,N3)\n",
    "print(\"Resultado usando Simpson:\",Is)\n",
    "endTime3 = time.process_time()\n",
    "print('tiempo de computo usando Simpson :',round(endTime3-startTime3,5),' s')\n",
    "errors=abs((Is-valreal)/valreal)\n",
    "print('El error del método de Simpson es:',errors)"
   ]
  },
  {
   "cell_type": "code",
   "execution_count": 95,
   "metadata": {},
   "outputs": [
    {
     "name": "stdout",
     "output_type": "stream",
     "text": [
      "Resultado usando trapecio: 1.9306261151922193\n",
      "tiempo de computo usando Trapecio:  1.74144  s\n",
      "El error del método de Trapecio es: 7.191816071685927e-06\n"
     ]
    }
   ],
   "source": [
    "#Evaluación método Trapecio\n",
    "N4=1000000\n",
    "a4=0\n",
    "b4=3.5\n",
    "\n",
    "\n",
    "startTime4 = time.process_time()\n",
    "\n",
    "It=Trapecio(funcion1,a4,b4,N4)\n",
    "print(\"Resultado usando trapecio:\",It)\n",
    "endTime4 = time.process_time()\n",
    "print('tiempo de computo usando Trapecio: ',round(endTime4-startTime4,5),' s')\n",
    "errort=abs((It-valreal)/valreal)\n",
    "print('El error del método de Trapecio es:',errort)"
   ]
  },
  {
   "cell_type": "code",
   "execution_count": 96,
   "metadata": {},
   "outputs": [
    {
     "name": "stdout",
     "output_type": "stream",
     "text": [
      "Resultado usando Simpson scipy.integrate: 1.9306426732660873\n",
      "Tiempo de cómputo usando Simpson scipy.integrate: 0.00509 s\n",
      "El error del método de Simpson scipy.integrate es: 1.3846528028959008e-06\n"
     ]
    }
   ],
   "source": [
    "\n",
    "#Método de Simpson y del Trapecio usando scipy.integrate\n",
    "a = 0\n",
    "b = 3.5\n",
    "N5 = 1000000\n",
    "# Método de Simpson usando scipy.integrate\n",
    "startTime5 = time.time()\n",
    "x = np.linspace(a, b, N5)\n",
    "I_simpson = simps(funcion1(x), x)\n",
    "endTime5 = time.time()\n",
    "print('Resultado usando Simpson scipy.integrate:' ,I_simpson)\n",
    "print('Tiempo de cómputo usando Simpson scipy.integrate:',round(end_time - start_time,5), 's')\n",
    "error_snp=abs((I_simpson-valreal)/valreal)\n",
    "print('El error del método de Simpson scipy.integrate es:',error_snp)"
   ]
  },
  {
   "cell_type": "code",
   "execution_count": 97,
   "metadata": {},
   "outputs": [
    {
     "name": "stdout",
     "output_type": "stream",
     "text": [
      "Resultado usando Trapecio scipy.integrate: 1.9306427090711054 s\n",
      "Tiempo de cómputo usando Trapecio scipy.integrate: 0.00281 s\n",
      "El error del método de Trapecio scipy.integrate es: 1.403198475865254e-06\n"
     ]
    }
   ],
   "source": [
    "# Método del trapecio usando scipy.integrate\n",
    "a = 0\n",
    "b = 3.5\n",
    "N6 = 1000000\n",
    "\n",
    "startTime6 = time.time()\n",
    "x = np.linspace(a, b, N6)\n",
    "I_trapezoid = trapz(funcion1(x), x)\n",
    "endTime6 = time.time()\n",
    "print('Resultado usando Trapecio scipy.integrate:', I_trapezoid,'s')\n",
    "print('Tiempo de cómputo usando Trapecio scipy.integrate:', round(end_time1 - start_time1,5), 's')\n",
    "error_tnp=abs((I_trapezoid-valreal)/valreal)\n",
    "print('El error del método de Trapecio scipy.integrate es:',error_tnp)"
   ]
  },
  {
   "cell_type": "code",
   "execution_count": 98,
   "metadata": {},
   "outputs": [
    {
     "name": "stdout",
     "output_type": "stream",
     "text": [
      "El error del método de Trapecio scipy.integrate es: 1.403198475865254e-06\n",
      "El error del método de Simpson scipy.integrate es: 1.3846528028959008e-06\n",
      "El error del método de Trapecio es: 7.191816071685927e-06\n",
      "El error del método de Simpson es: 4.938177247443035e-06\n",
      "El error de acertar y fallar es: 8.287407284639292e-06\n",
      "El error de valor medio es: 0.0005878210937031287\n"
     ]
    }
   ],
   "source": [
    "#Comparación de errores\n",
    "print('El error del método de Trapecio scipy.integrate es:',error_tnp)\n",
    "print('El error del método de Simpson scipy.integrate es:',error_snp)\n",
    "print('El error del método de Trapecio es:',errort)\n",
    "print('El error del método de Simpson es:',errors)\n",
    "print('El error de acertar y fallar es:',erroraf)\n",
    "print('El error de valor medio es:',errorvm)\n"
   ]
  },
  {
   "attachments": {},
   "cell_type": "markdown",
   "metadata": {},
   "source": [
    "Tomando en cuenta que todos tienen una n= 1000000, el método de mayor error es el de valor medio, seguido acertar y fallar , después Trapecio y Simpson, finalmente usando la librería de cipy Simpson y Trapecio dieron los mejores resultados. "
   ]
  },
  {
   "cell_type": "code",
   "execution_count": 99,
   "metadata": {},
   "outputs": [
    {
     "name": "stdout",
     "output_type": "stream",
     "text": [
      "Tiempo de cómputo usando Trapecio scipy.integrate: 0.00281 s\n",
      "Tiempo de cómputo usando Simpson scipy.integrate: 0.00509 s\n",
      "Tiempo de computo usando Trapecio:  1.74144  s\n",
      "Tiempo de computo usando Simpson : 1.73325  s\n",
      "Tiempo de computo usando acertar y fallar : 0.07023  s\n",
      "Tiempo de computo usando valor medio =  0.03713  s\n"
     ]
    }
   ],
   "source": [
    "#Comparación de tiempos \n",
    "print('Tiempo de cómputo usando Trapecio scipy.integrate:', round(end_time1 - start_time1,5), 's')\n",
    "print('Tiempo de cómputo usando Simpson scipy.integrate:',round(end_time - start_time,5), 's')\n",
    "print('Tiempo de computo usando Trapecio: ',round(endTime4-startTime4,5),' s')\n",
    "print('Tiempo de computo usando Simpson :',round(endTime3-startTime3,5),' s')\n",
    "print('Tiempo de computo usando acertar y fallar :',round(endTime2-startTime2,5),' s')\n",
    "print('Tiempo de computo usando valor medio = ',round(endTime1-startTime1,5),' s')\n"
   ]
  },
  {
   "attachments": {},
   "cell_type": "markdown",
   "metadata": {},
   "source": [
    "Los métodos más rápidos por un orden de magnitud son los métodos de la biblioteca de scipy, seguidos por los métodos de acertar y fallar"
   ]
  },
  {
   "attachments": {},
   "cell_type": "markdown",
   "metadata": {},
   "source": [
    "Comparando los diferentes métodos se puede concluir que los métodos que usan la librería de scipy son los mejores pues son más rápidos y tienen un error menor, además de tener una ventaja extra que es su facilidad y versatilidad. \n",
    "\n",
    "Aunque el método del valor medio resulto en el mayor error tiene un buen tiempo de computo y si tomamos en cuenta que el error es de la magnitud de las diezmilesimas puede seguir siendo una buena opción.\n",
    "\n",
    "El método de trapecio y simpson visto en clase alcanza una precisión aceptable pero el tiempo de computo es de 2 ordenes de magnitud mayor comparado con los otros métodos por lo que si se necesita hacer un cálculo complejo se recomiendo bucar otra manera (scipy)."
   ]
  }
 ],
 "metadata": {
  "kernelspec": {
   "display_name": "Python 3 (ipykernel)",
   "language": "python",
   "name": "python3"
  },
  "language_info": {
   "codemirror_mode": {
    "name": "ipython",
    "version": 3
   },
   "file_extension": ".py",
   "mimetype": "text/x-python",
   "name": "python",
   "nbconvert_exporter": "python",
   "pygments_lexer": "ipython3",
   "version": "3.9.13"
  },
  "vscode": {
   "interpreter": {
    "hash": "4a5d33498f9649c05b21671a5d2a953eaa418a7fe5b39b58a8186e2317a66eef"
   }
  }
 },
 "nbformat": 4,
 "nbformat_minor": 2
}
