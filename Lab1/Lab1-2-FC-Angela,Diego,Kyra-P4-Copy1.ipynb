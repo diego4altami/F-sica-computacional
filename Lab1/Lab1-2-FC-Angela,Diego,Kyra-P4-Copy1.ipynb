{
 "cells": [
  {
   "cell_type": "code",
   "execution_count": null,
   "id": "bef57544",
   "metadata": {},
   "outputs": [],
   "source": [
    "def funcion(x):\n",
    "    return ((x+1)*(x+2))"
   ]
  },
  {
   "cell_type": "code",
   "execution_count": null,
   "id": "211f3174",
   "metadata": {},
   "outputs": [],
   "source": [
    "x1=-1\n",
    "x2=2\n",
    "error=1/10**(4)\n",
    "pm=(x2+x1)/2\n",
    "fx1=funcion(x1)\n",
    "fx2=funcion(x2)\n",
    "fpm=funcion(pm)\n",
    "while(abs(fpm)>error):\n",
    "    if(fx1*fpm<0):\n",
    "        x2=pm\n",
    "    else: \n",
    "         x1=pm\n",
    "fx1=funcion(x1)\n",
    "fx2=funcion(x2)\n",
    "fpm=funcion(pm)\n",
    "print(pm)\n",
    "print(fpm)\n",
    "  \n"
   ]
  },
  {
   "cell_type": "code",
   "execution_count": null,
   "id": "a91f8627",
   "metadata": {},
   "outputs": [],
   "source": []
  }
 ],
 "metadata": {
  "kernelspec": {
   "display_name": "Python 3 (ipykernel)",
   "language": "python",
   "name": "python3"
  },
  "language_info": {
   "codemirror_mode": {
    "name": "ipython",
    "version": 3
   },
   "file_extension": ".py",
   "mimetype": "text/x-python",
   "name": "python",
   "nbconvert_exporter": "python",
   "pygments_lexer": "ipython3",
   "version": "3.9.13"
  },
  "vscode": {
   "interpreter": {
    "hash": "31f2aee4e71d21fbe5cf8b01ff0e069b9275f58929596ceb00d14d90e3e16cd6"
   }
  }
 },
 "nbformat": 4,
 "nbformat_minor": 5
}
