{
 "cells": [
  {
   "cell_type": "markdown",
   "id": "766ae11e",
   "metadata": {},
   "source": [
    "## Problema 5"
   ]
  },
  {
   "cell_type": "code",
   "execution_count": 285,
   "id": "c4e7dc89",
   "metadata": {},
   "outputs": [],
   "source": [
    "import math \n",
    "def funcionx(x):\n",
    "    return x*x\n",
    "\n",
    "def funcionsin(x):\n",
    "    return math.sin(x)\n",
    "\n",
    "def funcione(x):\n",
    "    return math.e**(-x**2)"
   ]
  },
  {
   "cell_type": "code",
   "execution_count": 286,
   "id": "f6c788e7",
   "metadata": {},
   "outputs": [],
   "source": [
    "def sumah_n(a,b,n,fnc):\n",
    "    suma_hn = 0\n",
    "    h_0 = b-a\n",
    "    for i in range(1,2**n,2):\n",
    "        suma_hn = suma_hn + fnc(a + i*h_0*((0.5)**n))\n",
    "    return suma_hn"
   ]
  },
  {
   "cell_type": "code",
   "execution_count": 287,
   "id": "36bf0091",
   "metadata": {},
   "outputs": [],
   "source": [
    "def integral(a,b,n,fnc, epsilon= 10**(-8)):\n",
    "    suma_an = []\n",
    "    h_0 = b-a\n",
    "    a_0 = (0.5)*h_0*(fnc(a)+fnc(b))\n",
    "    suma_an.append(a_0)\n",
    "    if n == 0:\n",
    "        a_n = a_0\n",
    "    else: \n",
    "        for i in range(0,n):\n",
    "            a_n = 0.5*suma_an[i] + ((b-a)*(0.5)**(i+1))*sumah_n(a,b,i+1,fnc)\n",
    "            suma_an.append(a_n)\n",
    "            tolerancia = abs((suma_an[i+1]-suma_an[i])/suma_an[i+1])\n",
    "            if tolerancia < epsilon:\n",
    "                print('El número n para el cuál el error del estimado es menor que la tolerancia predeterminada es: ',i)\n",
    "                break         \n",
    "    return print('El valor de la integral de la función es: ', a_n)"
   ]
  },
  {
   "cell_type": "code",
   "execution_count": 288,
   "id": "26d45aad",
   "metadata": {},
   "outputs": [
    {
     "name": "stdout",
     "output_type": "stream",
     "text": [
      "El número n para el cuál el error del estimado es menor que la tolerancia predeterminada es:  12\n",
      "El valor de la integral de la función es:  39.000000067055225\n",
      "El número n para el cuál el error del estimado es menor que la tolerancia predeterminada es:  13\n",
      "El valor de la integral de la función es:  1.9999999938721453\n",
      "El número n para el cuál el error del estimado es menor que la tolerancia predeterminada es:  6\n",
      "El valor de la integral de la función es:  0.8862262648130751\n"
     ]
    }
   ],
   "source": [
    "integral(2,5,20,funcionx)\n",
    "integral(0,math.pi,20,funcionsin) \n",
    "integral(0,3.5,20,funcione) "
   ]
  }
 ],
 "metadata": {
  "kernelspec": {
   "display_name": "Python 3 (ipykernel)",
   "language": "python",
   "name": "python3"
  },
  "language_info": {
   "codemirror_mode": {
    "name": "ipython",
    "version": 3
   },
   "file_extension": ".py",
   "mimetype": "text/x-python",
   "name": "python",
   "nbconvert_exporter": "python",
   "pygments_lexer": "ipython3",
   "version": "3.9.12"
  }
 },
 "nbformat": 4,
 "nbformat_minor": 5
}
