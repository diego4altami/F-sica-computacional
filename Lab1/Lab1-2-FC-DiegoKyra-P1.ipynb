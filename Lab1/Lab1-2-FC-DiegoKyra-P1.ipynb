{
 "cells": [
  {
   "cell_type": "code",
   "execution_count": 29,
   "metadata": {},
   "outputs": [],
   "source": [
    "def funcion(x):\n",
    "    return x**4-2*x+1"
   ]
  },
  {
   "cell_type": "code",
   "execution_count": 30,
   "metadata": {},
   "outputs": [],
   "source": [
    "def simpson(f,a,b,N):\n",
    "     h = (b-a)/N\n",
    "     m = (f(a)+f(b))\n",
    "     n = 0\n",
    "     o = 0\n",
    "     for k in range (1,N,2):\n",
    "          n += f(a+k*h)\n",
    "     for k in  range (2,N,2):\n",
    "          o += f(a+k*h)\n",
    "     L = (1/3)*h*(m+4*n+2*o)\n",
    "     return L "
   ]
  },
  {
   "cell_type": "code",
   "execution_count": 31,
   "metadata": {},
   "outputs": [
    {
     "name": "stdout",
     "output_type": "stream",
     "text": [
      "4.400426666666667\n"
     ]
    }
   ],
   "source": [
    "a=0\n",
    "b=2\n",
    "N=10\n",
    "L10=simpson(funcion,a,b,N)\n",
    "print(L10)"
   ]
  },
  {
   "attachments": {},
   "cell_type": "markdown",
   "metadata": {},
   "source": [
    "El método de Simpson es más exacto a la misma cantidad de N que el método del trapecio"
   ]
  },
  {
   "cell_type": "code",
   "execution_count": 32,
   "metadata": {},
   "outputs": [
    {
     "name": "stdout",
     "output_type": "stream",
     "text": [
      "4.400000042666667\n",
      "4.400000000004267\n",
      "4.400000000000002\n"
     ]
    }
   ],
   "source": [
    "L100=simpson(funcion,0,2,100)\n",
    "L1000=simpson(funcion,0,2,1000)\n",
    "L10000=simpson(funcion,0,2,10000)\n",
    "print(L100)\n",
    "print(L1000)\n",
    "print(L10000)"
   ]
  },
  {
   "cell_type": "code",
   "execution_count": 37,
   "metadata": {},
   "outputs": [
    {
     "name": "stdout",
     "output_type": "stream",
     "text": [
      "0.0004266666666667973\n",
      "4.266666664420882e-08\n",
      "4.266809128239402e-12\n",
      "1.7763568394002505e-15\n"
     ]
    }
   ],
   "source": [
    "Iexacto = 4.4\n",
    "E10 = abs(L10-Iexacto)\n",
    "E100 = abs(L100-Iexacto)\n",
    "E1000 = abs(L1000-Iexacto)\n",
    "E10000 = abs(L10000-Iexacto)\n",
    "print(E10)\n",
    "print(E100)\n",
    "print(E1000)\n",
    "print(E10000)"
   ]
  },
  {
   "attachments": {},
   "cell_type": "markdown",
   "metadata": {},
   "source": [
    "El error disminuye en 3 ordenes de magnitud con cada cambio de N"
   ]
  },
  {
   "cell_type": "code",
   "execution_count": 38,
   "metadata": {},
   "outputs": [
    {
     "name": "stdout",
     "output_type": "stream",
     "text": [
      "10000.00000526662\n",
      "9999.666111573688\n",
      "2402.0\n"
     ]
    }
   ],
   "source": [
    "print(E10/E100)\n",
    "print(E100/E1000)\n",
    "print(E1000/E10000)"
   ]
  },
  {
   "attachments": {},
   "cell_type": "markdown",
   "metadata": {},
   "source": [
    "El cambio en el error no es el mismo al aumentar el orden de magnitud de N"
   ]
  }
 ],
 "metadata": {
  "kernelspec": {
   "display_name": "base",
   "language": "python",
   "name": "python3"
  },
  "language_info": {
   "codemirror_mode": {
    "name": "ipython",
    "version": 3
   },
   "file_extension": ".py",
   "mimetype": "text/x-python",
   "name": "python",
   "nbconvert_exporter": "python",
   "pygments_lexer": "ipython3",
   "version": "3.9.13 (main, Aug 25 2022, 18:29:29) \n[Clang 12.0.0 ]"
  },
  "orig_nbformat": 4,
  "vscode": {
   "interpreter": {
    "hash": "4a5d33498f9649c05b21671a5d2a953eaa418a7fe5b39b58a8186e2317a66eef"
   }
  }
 },
 "nbformat": 4,
 "nbformat_minor": 2
}
