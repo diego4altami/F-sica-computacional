{
 "cells": [
  {
   "cell_type": "code",
   "execution_count": 2,
   "metadata": {},
   "outputs": [],
   "source": [
    "import numpy as np"
   ]
  },
  {
   "cell_type": "code",
   "execution_count": 3,
   "metadata": {},
   "outputs": [
    {
     "name": "stdout",
     "output_type": "stream",
     "text": [
      "la velocidad media es  [ 2.65306122  7.25490196 11.8        13.79310345 20.85106383 17.38461538]\n"
     ]
    }
   ],
   "source": [
    "y = np.array([0., 1.3, 5.,10.9,18.9,28.7,40.0])\n",
    "t = np.array([0.,0.49,1.,1.5,2.08,2.55,3.2])\n",
    "v = (y[1:]-y[:-1])/(t[1:]-t[:-1])\n",
    "print(\"la velocidad media es \", v)"
   ]
  },
  {
   "cell_type": "code",
   "execution_count": 7,
   "metadata": {},
   "outputs": [
    {
     "name": "stdout",
     "output_type": "stream",
     "text": [
      "[2.653061224489796, 7.254901960784314, 11.8, 13.793103448275858, 20.851063829787247, 17.384615384615376]\n"
     ]
    },
    {
     "data": {
      "text/plain": [
       "list"
      ]
     },
     "execution_count": 7,
     "metadata": {},
     "output_type": "execute_result"
    }
   ],
   "source": [
    "y = (0., 1.3, 5.,10.9,18.9,28.7,40.0)\n",
    "t = (0.,0.49,1.,1.5,2.08,2.55,3.2)\n",
    "i = 0\n",
    "v = [0,0,0,0,0,0]\n",
    "for i in range (0,6):\n",
    "    v[i]=(y[i+1]-y[i])/(t[i+1]-t[i])\n",
    "print(v)"
   ]
  },
  {
   "cell_type": "code",
   "execution_count": null,
   "metadata": {},
   "outputs": [],
   "source": []
  }
 ],
 "metadata": {
  "kernelspec": {
   "display_name": "base",
   "language": "python",
   "name": "python3"
  },
  "language_info": {
   "codemirror_mode": {
    "name": "ipython",
    "version": 3
   },
   "file_extension": ".py",
   "mimetype": "text/x-python",
   "name": "python",
   "nbconvert_exporter": "python",
   "pygments_lexer": "ipython3",
   "version": "3.9.13"
  },
  "orig_nbformat": 4,
  "vscode": {
   "interpreter": {
    "hash": "4a5d33498f9649c05b21671a5d2a953eaa418a7fe5b39b58a8186e2317a66eef"
   }
  }
 },
 "nbformat": 4,
 "nbformat_minor": 2
}
