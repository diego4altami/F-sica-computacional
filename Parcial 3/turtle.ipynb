{
 "cells": [
  {
   "cell_type": "code",
   "execution_count": 1,
   "metadata": {},
   "outputs": [
    {
     "ename": "",
     "evalue": "",
     "output_type": "error",
     "traceback": [
      "\u001b[1;31mEl Kernel se bloqueó al ejecutar código en la celda actual o en una celda anterior. Revise el código de las celdas para identificar una posible causa del error. Haga clic <a href='https://aka.ms/vscodeJupyterKernelCrash'>aquí</a> para obtener más información. Vea el [registro] de Jupyter (command:jupyter.viewOutput) para obtener más detalles."
     ]
    }
   ],
   "source": [
    "import turtle\n",
    "\n",
    "def koch_curve(t, order, size):\n",
    "    if order == 0:\n",
    "        t.forward(size)\n",
    "    else:\n",
    "        for angle in [120,-60 ,-60,-60,-60,120,0]:\n",
    "            koch_curve(t, order-1, size/3)  \n",
    "            t.left(angle)\n",
    "\n",
    "# Create the turtle\n",
    "t = turtle.Turtle()\n",
    "\n",
    "# Set the speed and size\n",
    "t.speed(0)\n",
    "size = 300\n",
    "\n",
    "# Move the turtle to the starting position\n",
    "t.penup()\n",
    "t.goto(-150, 0)\n",
    "t.pendown()\n",
    "\n",
    "# Draw the Koch curve\n",
    "koch_curve(t, 3, size)\n",
    "\n",
    "# Hide the turtle\n",
    "t.hideturtle()\n",
    "\n",
    "# Keep the window open until it's closed manually\n",
    "turtle.done()"
   ]
  },
  {
   "cell_type": "code",
   "execution_count": 1,
   "metadata": {},
   "outputs": [],
   "source": [
    "import turtle \n",
    "\n",
    "def koch_curve(t, order, size):\n",
    "    if order == 0:\n",
    "        t.forward(size)\n",
    "    else:\n",
    "        for angle in [90,-90,-90,90,0]:\n",
    "            koch_curve(t, order-1, size/3)  \n",
    "            t.left(angle)\n",
    "\n",
    "# Create the turtle\n",
    "t = turtle.Turtle()\n",
    "\n",
    "# Set the speed and size\n",
    "t.speed(0)\n",
    "size = 300\n",
    "\n",
    "# Move the turtle to the starting position\n",
    "t.penup()\n",
    "t.goto(-150, 0)\n",
    "t.pendown()\n",
    "\n",
    "# Draw the Koch curve\n",
    "koch_curve(t, 4, size)\n",
    "\n",
    "# Hide the turtle\n",
    "t.hideturtle()\n",
    "\n",
    "# Keep the window open until it's closed manually\n",
    "turtle.done()"
   ]
  },
  {
   "cell_type": "code",
   "execution_count": null,
   "metadata": {},
   "outputs": [],
   "source": []
  }
 ],
 "metadata": {
  "kernelspec": {
   "display_name": "base",
   "language": "python",
   "name": "python3"
  },
  "language_info": {
   "codemirror_mode": {
    "name": "ipython",
    "version": 3
   },
   "file_extension": ".py",
   "mimetype": "text/x-python",
   "name": "python",
   "nbconvert_exporter": "python",
   "pygments_lexer": "ipython3",
   "version": "3.9.13"
  },
  "orig_nbformat": 4
 },
 "nbformat": 4,
 "nbformat_minor": 2
}
